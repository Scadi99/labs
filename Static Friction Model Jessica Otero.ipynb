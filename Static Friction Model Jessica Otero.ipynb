{
 "cells": [
  {
   "cell_type": "code",
   "execution_count": 9,
   "metadata": {
    "collapsed": false
   },
   "outputs": [],
   "source": [
    "%matplotlib inline"
   ]
  },
  {
   "cell_type": "markdown",
   "metadata": {},
   "source": [
    "# Intro"
   ]
  },
  {
   "cell_type": "markdown",
   "metadata": {},
   "source": [
    "### "
   ]
  },
  {
   "cell_type": "markdown",
   "metadata": {},
   "source": [
    "# Procedure"
   ]
  },
  {
   "cell_type": "markdown",
   "metadata": {},
   "source": [
    "### First we grab a spring scale attached to a box  and placed weights in the box.\n",
    "### We begin to pull the spring scale with the weights until it begins to move.\n",
    "### We see sow much Newtons is required with the weight we use."
   ]
  },
  {
   "cell_type": "markdown",
   "metadata": {},
   "source": [
    "# Data and Analysis"
   ]
  },
  {
   "cell_type": "markdown",
   "metadata": {},
   "source": [
    "| Mass(g)  | Force(N)  |\n",
    "|---|---|\n",
    "| 0  | .35  |\n",
    "| 100  | 1.05  |\n",
    "| 200  | 1.3  |\n",
    "| 300  | 1.65  |\n",
    "| 400  | 2  |\n",
    "| 500  | 2.5  |"
   ]
  },
  {
   "cell_type": "code",
   "execution_count": 12,
   "metadata": {
    "collapsed": false
   },
   "outputs": [
    {
     "data": {
      "image/png": "[encoded data removed]",
      "text/plain": [
       "<matplotlib.figure.Figure at 0x75cac50>"
      ]
     },
     "metadata": {},
     "output_type": "display_data"
    }
   ],
   "source": [
    "import matplotlib.pyplot as plt\n",
    "import numpy as np\n",
    "from scipy.optimize import curve_fit\n",
    "mass = [0.0, 100.0, 200.0, 300.0, 400.0, 500.0]\n",
    "force = [.35, 1.05, 1.3, 1.65, 2.0, 2.5]\n",
    "xx = np.linspace(0.0,501,20)\n",
    "def lin_model(x,a,b):\n",
    "    return a*x+b\n",
    "a,b=curve_fit(lin_model,mass,force)[0]\n",
    "print=(a,b)\n",
    "plt.plot(mass,force,'.')\n",
    "plt.plot(xx,lin_model(xx,a,b))\n",
    "plt.xlabel('Mass(g)')\n",
    "plt.ylabel('Force(N)')\n",
    "plt.title('Static Friction Model')\n",
    "plt.show()"
   ]
  },
  {
   "cell_type": "code",
   "execution_count": 11,
   "metadata": {
    "collapsed": false
   },
   "outputs": [
    {
     "data": {
      "text/plain": [
       "(0.0039857142856366198, 0.47857142882066384)"
      ]
     },
     "execution_count": 11,
     "metadata": {},
     "output_type": "execute_result"
    }
   ],
   "source": [
    "a,b"
   ]
  },
  {
   "cell_type": "markdown",
   "metadata": {},
   "source": [
    "# Observation"
   ]
  },
  {
   "cell_type": "code",
   "execution_count": null,
   "metadata": {
    "collapsed": true
   },
   "outputs": [],
   "source": []
  }
 ],
 "metadata": {
  "kernelspec": {
   "display_name": "Python 3",
   "language": "python",
   "name": "python3"
  },
  "language_info": {
   "codemirror_mode": {
    "name": "ipython",
    "version": 3
   },
   "file_extension": ".py",
   "mimetype": "text/x-python",
   "name": "python",
   "nbconvert_exporter": "python",
   "pygments_lexer": "ipython3",
   "version": "3.4.4"
  }
 },
 "nbformat": 4,
 "nbformat_minor": 0
}
